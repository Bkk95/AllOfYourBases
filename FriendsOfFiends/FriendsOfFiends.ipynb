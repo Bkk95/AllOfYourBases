{
 "cells": [
  {
   "cell_type": "code",
   "execution_count": 1,
   "metadata": {
    "collapsed": true
   },
   "outputs": [],
   "source": [
    "%matplotlib inline"
   ]
  },
  {
   "cell_type": "markdown",
   "metadata": {},
   "source": [
    "First we’ll need some libraries…"
   ]
  },
  {
   "cell_type": "code",
   "execution_count": 2,
   "metadata": {},
   "outputs": [
    {
     "name": "stdout",
     "output_type": "stream",
     "text": [
      "********************************************************************************\n",
      "WARNING: Imported VTK version (7.1) does not match the one used\n",
      "         to build the TVTK classes (7.0). This may cause problems.\n",
      "         Please rebuild TVTK.\n",
      "********************************************************************************\n",
      "\n"
     ]
    }
   ],
   "source": [
    "import numpy as np              # for array manipulation\n",
    "import matplotlib.pyplot as pl  # for plotting stuff\n",
    "from mayavi import mlab         # optional\n",
    "from scipy import stats         # optional"
   ]
  },
  {
   "cell_type": "markdown",
   "metadata": {},
   "source": [
    "This notebook is accompanied by a file called \"A795_sdss.dat\", which contains data extracted from the SDSS database (http://skyserver.sdss.org/dr13/en/tools/search/sql.aspx) using SQL.\n",
    "\n",
    "To read the data we extracted from the SDSS database, something along these lines is probably ok:"
   ]
  },
  {
   "cell_type": "code",
   "execution_count": 3,
   "metadata": {
    "collapsed": true
   },
   "outputs": [],
   "source": [
    "def read_sdss(filename):\n",
    "\n",
    "    datafile = open(filename,'r')\n",
    "    \n",
    "    srcid=[];ra=[];dec=[];z=[];zerr=[]\n",
    "    src=0\n",
    "    while True:\n",
    "        line=datafile.readline()\n",
    "        if not line: break\n",
    "            \n",
    "        # remove header info:\n",
    "        if line[0]!='#':\n",
    "            items=line.split()\n",
    "            \n",
    "            # ignore objects with no redshift info:\n",
    "            if items[3]!='-9999':\n",
    "                src+=1\n",
    "                srcid.append(float(src))\n",
    "                ra.append(float(items[0]))\n",
    "                dec.append(float(items[1]))\n",
    "                z.append(float(items[2]))\n",
    "                zerr.append(float(items[3]))\n",
    "            \n",
    "    srcid=np.array(srcid)\n",
    "    ra=np.array(ra)\n",
    "    dec=np.array(dec)\n",
    "    z=np.array(z)\n",
    "    zerr=np.array(zerr)\n",
    "    \n",
    "    sdss_data = np.vstack((srcid,ra,dec,z))\n",
    "            \n",
    "    return sdss_data"
   ]
  },
  {
   "cell_type": "markdown",
   "metadata": {},
   "source": [
    "To run this on our output data file:"
   ]
  },
  {
   "cell_type": "code",
   "execution_count": 4,
   "metadata": {},
   "outputs": [
    {
     "name": "stdout",
     "output_type": "stream",
     "text": [
      "Number of objects:  1913\n"
     ]
    }
   ],
   "source": [
    "sdss_data = read_sdss(\"A795_sdss.dat\")\n",
    "print \"Number of objects: \",sdss_data.shape[1]"
   ]
  },
  {
   "cell_type": "markdown",
   "metadata": {},
   "source": [
    "There are a bunch of different ways that you could view these data in Python. Here I’ve chosen to play with the mayavi library.\n",
    "\n",
    "**Note:** this plot will appear in a separate window, even though the matplotlib plots appear in-line. "
   ]
  },
  {
   "cell_type": "code",
   "execution_count": 5,
   "metadata": {
    "collapsed": true
   },
   "outputs": [],
   "source": [
    "xyz = sdss_data\n",
    "\n",
    "x = sdss_data[1,:]\n",
    "y = sdss_data[2,:]\n",
    "z = sdss_data[3,:]\n",
    "\n",
    "kde = stats.gaussian_kde(xyz)\n",
    "density = kde(xyz)\n",
    "\n",
    "# Plot scatter with mayavi\n",
    "figure = mlab.figure('DensityPlot')\n",
    "pts = mlab.points3d(x, y, z, density, scale_mode='none', scale_factor=0.01)\n",
    "mlab.axes()\n",
    "mlab.show()"
   ]
  },
  {
   "cell_type": "markdown",
   "metadata": {},
   "source": [
    "Now we need some functions to help us calculate the linking length for our friends-of-fiends algorithm:"
   ]
  },
  {
   "cell_type": "code",
   "execution_count": 13,
   "metadata": {
    "collapsed": true
   },
   "outputs": [],
   "source": [
    "def calc_trans(sdss1,sdss2):\n",
    " \n",
    "    \"\"\"\n",
    "    returns plane of sky separation\n",
    "    in units of h^-1 Mpc\n",
    " \n",
    "    sdss1 is an array [srcid, ra, dec, z]\n",
    "    \"\"\"\n",
    " \n",
    "    const_cH0 = 3e3  # c/H0: h^-1 Mpc\n",
    "    deg2rad = np.pi/180.\n",
    " \n",
    "    z1 = sdss1[3]; z2 = sdss2[3]\n",
    "    delta_dec = sdss1[2] - sdss2[2]\n",
    "    delta_ra = np.cos(sdss1[2]*deg2rad)*(sdss1[1] - sdss2[1])\n",
    "    delta_theta = np.sqrt(delta_dec**2+delta_ra**2)\n",
    " \n",
    "    sep_trans = (const_cH0)*(z1+z2)*np.sin(0.5*delta_theta*deg2rad)\n",
    " \n",
    "    return sep_trans\n",
    "\n",
    "\n",
    "# ================================================================================\n",
    "\n",
    "def calc_radial(sdss1,sdss2):\n",
    " \n",
    "    \"\"\"\n",
    "    returns line of sight separation\n",
    "    in units of h^-1 Mpc\n",
    " \n",
    "    sdss1 is an array [srcid, ra, dec, z]\n",
    "    \"\"\"\n",
    " \n",
    "    const_cH0 = 3e3 # c/H0: h^-1 Mpc    \n",
    " \n",
    "    z1 = sdss1[3]; z2 = sdss2[3]\n",
    " \n",
    "    sep_radial = (const_cH0)*np.abs(z1-z2)\n",
    " \n",
    "    return sep_radial\n",
    "\n",
    "\n",
    "# ================================================================================\n",
    "\n",
    "\n",
    "def calc_tempel(sdss1):\n",
    " \n",
    "    \"\"\"\n",
    "    Average distance to nearest neighbour\n",
    "    in units of h^-1 Mpc\n",
    " \n",
    "    sdss1 is an array [srcid, ra, dec, z]\n",
    "    \"\"\"\n",
    " \n",
    "    # Tempel et al. 2012:\n",
    "    d_ll0 = 0.25   # h^-1 Mpc\n",
    "    a_star = 1.0\n",
    "    z_star = 0.05\n",
    " \n",
    "    # extract redshift of galaxy:\n",
    "    z = sdss1[3]\n",
    " \n",
    "    # calculate expected average nearest neighbour distance\n",
    "    # at this redshift:\n",
    "    d_ll = d_ll0*(1 + a_star*np.arctan(z/z_star))\n",
    " \n",
    "    return d_ll\n",
    "\n",
    "# ================================================================================\n",
    "\n",
    "def calc_dist(sdss1):\n",
    "    \n",
    "    \"\"\"\n",
    "    returns line of sight distance\n",
    "    in units of h^-1 Mpc\n",
    "    \"\"\"\n",
    "    \n",
    "    const_cH0 = 3e3 # c/H0: h^-1 Mpc    \n",
    "    \n",
    "    z1 = sdss1[3]\n",
    "    \n",
    "    dist = (const_cH0)*np.abs(z1)\n",
    "    \n",
    "    return dist\n",
    "\n",
    "# ================================================================================"
   ]
  },
  {
   "cell_type": "markdown",
   "metadata": {},
   "source": [
    "Right, now we’ve got all the pieces, let’s put them to use. I’m not going to split this up much but hopefully the comments make sense."
   ]
  },
  {
   "cell_type": "code",
   "execution_count": 14,
   "metadata": {},
   "outputs": [
    {
     "name": "stdout",
     "output_type": "stream",
     "text": [
      "Group  149  has 127  members\n",
      "Group  252  has 16  members\n",
      "There are  1543  groups\n",
      "The largest group is  149  with  127  members\n"
     ]
    }
   ],
   "source": [
    "# don't overwrite the input data...\n",
    "tmp_sdss = sdss_data\n",
    " \n",
    "# initialise a list for the output\n",
    "# and start a counter for the number of groups found:\n",
    "groups=[]\n",
    "grp = 0\n",
    " \n",
    "# initialise the maximum number of galaxies found in a group:\n",
    "n_max = 0\n",
    " \n",
    "# set constraints in terms of linking length\n",
    "# 1 for the transverse direction; 10 for the radial direction:\n",
    "b_trans = 1.\n",
    "b_los = 10.\n",
    " \n",
    "# start the loop:\n",
    "while True:\n",
    " \n",
    "    # check we haven't got zero data:\n",
    "    if (tmp_sdss.shape[1]<1): break\n",
    " \n",
    "    # pick an initial data point:\n",
    "    sdss1 = tmp_sdss[:,0]\n",
    " \n",
    "    # calculate the separation of the initial point\n",
    "    # from every other data point in both dimensions:\n",
    "    sep_sky = calc_trans(sdss1,tmp_sdss)\n",
    "    sep_los = calc_radial(sdss1,tmp_sdss)\n",
    " \n",
    "    # find the linking length at the redshift of\n",
    "    # the initial data point:\n",
    "    d_ll_sky = calc_tempel(sdss1)\n",
    "    d_ll_los = d_ll_sky\n",
    " \n",
    "    # normalise the separation:\n",
    "    tmp_sep1 = sep_sky/d_ll_sky\n",
    "    tmp_sep2 = sep_los/d_ll_los\n",
    " \n",
    "    # identify data points within the linking length:\n",
    "    grp_indices = np.where( np.logical_and( tmp_sep1<=b_trans, tmp_sep2<=b_los))     \n",
    "    # identify data points outside the linking length:     \n",
    "    other_indices = np.where( np.logical_or( tmp_sep1>b_trans, tmp_sep2>b_los) )\n",
    " \n",
    "    # put the group members in their own array:\n",
    "    tmp_grp = np.squeeze(tmp_sdss[:,grp_indices],axis=(1,))\n",
    "    # remove the group members from the rest of the data:\n",
    "    tmp_sdss = np.squeeze(tmp_sdss[:,other_indices],axis=(1,))\n",
    " \n",
    "    # initialise this new group:\n",
    "    gpt = 0\n",
    "    group = tmp_grp \n",
    " \n",
    "    # loop through the linking length catchment of all\n",
    "    # group members:\n",
    "    while True:\n",
    " \n",
    "        # how many group members initially:\n",
    "        n_mem = group.shape[1]\n",
    " \n",
    "        # step through them all updating the group:\n",
    "        for gal in range(gpt,n_mem):\n",
    " \n",
    "            sep_sky = calc_trans(group[:,gal],tmp_sdss)\n",
    "            sep_los = calc_radial(group[:,gal],tmp_sdss)\n",
    " \n",
    "            d_ll_sky = calc_tempel(group[:,gal])\n",
    "            d_ll_los = d_ll_sky\n",
    " \n",
    "            tmp_sep1 = sep_sky/d_ll_sky\n",
    "            tmp_sep2 = sep_los/d_ll_los\n",
    " \n",
    "            grp_indices = np.where( np.logical_and( tmp_sep1<=b_trans, tmp_sep2<=b_los) )             \n",
    "            other_indices = np.where( np.logical_or( tmp_sep1>b_trans, tmp_sep2>b_los) )\n",
    " \n",
    "            tmp_grp = np.squeeze(tmp_sdss[:,grp_indices],axis=(1,))\n",
    "            tmp_sdss = np.squeeze(tmp_sdss[:,other_indices],axis=(1,))\n",
    " \n",
    "            if (tmp_grp.shape[1]>0):\n",
    " \n",
    "                #if there are more updates add them in:\n",
    "                group = np.hstack((group,tmp_grp))\n",
    " \n",
    "            else:\n",
    "                #if there are no new members do nothing:\n",
    "                continue\n",
    " \n",
    "        if (group.shape[1]>n_mem):\n",
    "            # if we've added new members then we need to check\n",
    "            # their catchment volumes too:\n",
    "            gpt = n_mem\n",
    "        else:\n",
    "            # if we've stopped adding new members then we can stop:\n",
    "            if (group.shape[1]>10):\n",
    "                # print out when we find a big group:\n",
    "                print \"Group \",grp,\" has\", group.shape[1],\" members\"\n",
    " \n",
    "            if (group.shape[1]>n_max):\n",
    "                # check if this is the biggest group so far...\n",
    "                big_grp=grp\n",
    "                n_max = group.shape[1]\n",
    " \n",
    "            for i in range(0,group.shape[1]):\n",
    "                # add the completed group into our master list\n",
    "                # of groups:\n",
    "                groups.append([group[0,i],group[1,i],group[2,i],group[3,i],grp])\n",
    " \n",
    "            # update the group counter:\n",
    "            grp+=1\n",
    "            break\n",
    " \n",
    "groups=np.array(groups)\n",
    "print \"There are \",grp,\" groups\"\n",
    "print \"The largest group is \", big_grp,\" with \",n_max,\" members\""
   ]
  },
  {
   "cell_type": "markdown",
   "metadata": {},
   "source": [
    "Let’s see where these galaxies are in our data:"
   ]
  },
  {
   "cell_type": "code",
   "execution_count": 15,
   "metadata": {},
   "outputs": [
    {
     "data": {
      "image/png": "[encoded data removed]",
      "text/plain": [
       "<matplotlib.figure.Figure at 0x12d018ed0>"
      ]
     },
     "metadata": {},
     "output_type": "display_data"
    }
   ],
   "source": [
    "a_grp = big_grp\n",
    "\n",
    "ax = pl.subplot(111)\n",
    "pl.scatter(sdss_data[1,:],sdss_data[2,:],c='b')\n",
    "pl.scatter(np.squeeze(groups[np.where(groups[:,4]==a_grp),1]),np.squeeze(groups[np.where(groups[:,4]==a_grp),2]),c='r')\n",
    "pl.show()\n"
   ]
  },
  {
   "cell_type": "markdown",
   "metadata": {},
   "source": [
    "…and let’s calculate the mean position of the cluster in all dimensions:"
   ]
  },
  {
   "cell_type": "code",
   "execution_count": 11,
   "metadata": {},
   "outputs": [
    {
     "name": "stdout",
     "output_type": "stream",
     "text": [
      "Mean redshift:  0.142853984252\n"
     ]
    }
   ],
   "source": [
    "ra_cen = np.mean(groups[np.where(groups[:,4]==a_grp),1])\n",
    "dec_cen = np.mean(groups[np.where(groups[:,4]==a_grp),2])\n",
    "z_cen = np.mean(groups[np.where(groups[:,4]==a_grp),3])\n",
    "\n",
    "print \"Mean redshift: \",z_cen"
   ]
  },
  {
   "cell_type": "code",
   "execution_count": null,
   "metadata": {
    "collapsed": true
   },
   "outputs": [],
   "source": []
  }
 ],
 "metadata": {
  "kernelspec": {
   "display_name": "Python 2",
   "language": "python",
   "name": "python2"
  },
  "language_info": {
   "codemirror_mode": {
    "name": "ipython",
    "version": 2
   },
   "file_extension": ".py",
   "mimetype": "text/x-python",
   "name": "python",
   "nbconvert_exporter": "python",
   "pygments_lexer": "ipython2",
   "version": "2.7.13"
  }
 },
 "nbformat": 4,
 "nbformat_minor": 2
}
