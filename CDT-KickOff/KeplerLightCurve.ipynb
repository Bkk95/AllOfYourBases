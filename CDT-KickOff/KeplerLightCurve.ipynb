{
 "cells": [
  {
   "cell_type": "markdown",
   "metadata": {},
   "source": [
    "\n",
    "KeplerLightCurve.ipynb\n",
    "==\n",
    "\n",
    "---------------------------------\n",
    "\n",
    "‹ KeplerLightCurve.ipynb › Copyright (C) ‹ 2017 › ‹ Anna Scaife - anna.scaife@manchester.ac.uk ›\n",
    "This program is free software: you can redistribute it and/or modify it under the terms of the GNU General Public License as published by the Free Software Foundation, either version 3 of the License, or (at your option) any later version.\n",
    "\n",
    "This program is distributed in the hope that it will be useful, but WITHOUT ANY WARRANTY; without even the implied warranty of MERCHANTABILITY or FITNESS FOR A PARTICULAR PURPOSE. See the GNU General Public License for more details.\n",
    "You should have received a copy of the GNU General Public License along with this program. If not, see http://www.gnu.org/licenses/.\n",
    "\n",
    "---------------------------------\n",
    "\n",
    "[AMS - 170829] Notebook created for **TIARA Astrostatistics Summer School, Taipei, September 2017**.\n",
    "\n",
    "This notebook runs through the Gaussian Process Modelling described in **Example 3** of https://arxiv.org/pdf/1703.09710.pdf and builds on the methodology presented in the accompanying lecture: \"Can You Predict the Future..?\"\n",
    "\n",
    "It uses a number of Python libraries, which are all installable using **pip**.\n",
    "\n",
    "This example uses the **v0.2.1** george GPM library (http://dan.iel.fm/george/) and the emcee package (http://dan.iel.fm/emcee/).\n",
    "\n",
    "To install the george v0.2.1 (rather than 0.3.0) use:\n",
    "\n",
    "> pip install george==0.2.1\n",
    "\n",
    "---------------------------------"
   ]
  },
  {
   "cell_type": "code",
   "execution_count": 1,
   "metadata": {
    "collapsed": true
   },
   "outputs": [],
   "source": [
    "#%matplotlib inline"
   ]
  },
  {
   "cell_type": "markdown",
   "metadata": {},
   "source": [
    "Import some libraries:"
   ]
  },
  {
   "cell_type": "code",
   "execution_count": 2,
   "metadata": {
    "collapsed": true
   },
   "outputs": [],
   "source": [
    "import numpy as np\n",
    "import pylab as pl"
   ]
  },
  {
   "cell_type": "markdown",
   "metadata": {},
   "source": [
    "Import the george Gaussian Process Modelling library and the george covariance kernels:"
   ]
  },
  {
   "cell_type": "code",
   "execution_count": 3,
   "metadata": {
    "collapsed": true
   },
   "outputs": [],
   "source": [
    "import george\n",
    "from george import kernels"
   ]
  },
  {
   "cell_type": "markdown",
   "metadata": {},
   "source": [
    "Specify the datafile containing Kepler data for the object KIC 1430163:"
   ]
  },
  {
   "cell_type": "code",
   "execution_count": 4,
   "metadata": {
    "collapsed": true
   },
   "outputs": [],
   "source": [
    "filename=\"KIC1430163.tbl\"\n",
    "datafile = open(filename,'r')"
   ]
  },
  {
   "cell_type": "markdown",
   "metadata": {},
   "source": [
    "Read the Kepler data from the file:"
   ]
  },
  {
   "cell_type": "code",
   "execution_count": 5,
   "metadata": {
    "collapsed": true
   },
   "outputs": [],
   "source": [
    "time=[];value=[]\n",
    "while True:\n",
    "    line = datafile.readline()\n",
    "    if not line: break\n",
    "        \n",
    "    items=line.split()\n",
    "    if (items[0][0]!='|'):\n",
    "        time.append(float(items[1]))\n",
    "        value.append(float(items[2]))\n",
    "        \n",
    "time=np.array(time)\n",
    "value=np.array(value)"
   ]
  },
  {
   "cell_type": "markdown",
   "metadata": {},
   "source": [
    "The paper says:\n",
    "\n",
    "*We set the mean function to zero*\n",
    "   \n",
    "and we can see from Fig 7 that the data have also been normalised to have a maximum value of one.\n",
    "\n",
    "So, let's also do that:"
   ]
  },
  {
   "cell_type": "code",
   "execution_count": 6,
   "metadata": {
    "collapsed": true
   },
   "outputs": [],
   "source": [
    "mean = np.mean(value)\n",
    "value-=mean\n",
    "\n",
    "norm = np.max(value)\n",
    "value/=norm"
   ]
  },
  {
   "cell_type": "markdown",
   "metadata": {},
   "source": [
    "And the time has been made relative to the first measurement:"
   ]
  },
  {
   "cell_type": "code",
   "execution_count": 7,
   "metadata": {
    "collapsed": true
   },
   "outputs": [],
   "source": [
    "day1 = time[0]\n",
    "time-=day1"
   ]
  },
  {
   "cell_type": "markdown",
   "metadata": {},
   "source": [
    "Make a plot like the one in Figure 7:"
   ]
  },
  {
   "cell_type": "code",
   "execution_count": 8,
   "metadata": {},
   "outputs": [
    {
     "name": "stderr",
     "output_type": "stream",
     "text": [
      "/opt/local/Library/Frameworks/Python.framework/Versions/2.7/lib/python2.7/site-packages/matplotlib/collections.py:590: FutureWarning: elementwise comparison failed; returning scalar instead, but in the future will perform elementwise comparison\n",
      "  if self._edgecolors == str('face'):\n"
     ]
    }
   ],
   "source": [
    "pl.subplot(111)\n",
    "pl.scatter(time,value,s=0.2)\n",
    "pl.axis([0.,60.,-1.,1.])\n",
    "pl.ylabel(\"Relative flux [ppt]\")\n",
    "pl.xlabel(\"Time [days]\")\n",
    "pl.show()"
   ]
  },
  {
   "cell_type": "markdown",
   "metadata": {},
   "source": [
    "In the paper there are two suggested kernels for modelling the covariance of the Kepler data (Eqs. 55 & 56). In the paper the authors fit Eq 56 - here we are going to fit **Eq. 55**.\n",
    "\n",
    "We can do this using a combination of kernels from the george library. \n",
    "\n",
    "Exponential Squared Kernel:\n",
    "$$\n",
    "k_1(x_i,x_j)=h_1 \\exp(−\\frac{(x_i-x_j)^2}{2 \\sigma^2})\n",
    "$$\n",
    "\n",
    "Exp-Sine-Squared Kernel:\n",
    "$$\n",
    "k_2(x_i,x_j)=h_2 \\exp \\left( \\Gamma \\sin^2 \\left[ \\frac{\\pi}{P}|x_i - x_j|\\right] \\right)\n",
    "$$\n",
    "\n",
    "Our combined kernel is therefore:\n",
    "\n",
    "$$\n",
    "k(x_i,x_j)=h \\exp(−\\frac{(x_i-x_j)^2}{2 \\sigma^2})\\exp \\left( \\Gamma \\sin^2 \\left[ \\frac{\\pi}{P}|x_i - x_j|\\right] \\right)\n",
    "$$\n",
    "\n",
    "where $h = h_1 h_2$.\n",
    "\n",
    "However, following https://arxiv.org/pdf/1706.05459.pdf, we are also going to add a white noise kernel in:\n",
    "\n",
    "$$\n",
    "k_3(x_i,x_j)=c \\delta_{ij}\n",
    "$$\n",
    "\n",
    "So our final kernel will be:\n",
    "\n",
    "$$\n",
    "k = (k_1k_2) + k_3\n",
    "$$"
   ]
  },
  {
   "cell_type": "code",
   "execution_count": 17,
   "metadata": {
    "collapsed": true
   },
   "outputs": [],
   "source": [
    "# h =1.0; sigma = 1.0; Gamma = 2.0/1.0^2; P = 3.8\n",
    "k1 = 1.0**2 * kernels.ExpSquaredKernel(1.0**2) \\\n",
    "                        * kernels.ExpSine2Kernel(2.0 / 1.0**2, 1.0)\n",
    "    \n",
    "k2 = kernels.WhiteKernel(0.01)\n",
    "\n",
    "kernel = k1+k2"
   ]
  },
  {
   "cell_type": "code",
   "execution_count": 18,
   "metadata": {
    "collapsed": true
   },
   "outputs": [],
   "source": [
    "# first we feed our combined kernel to the George library:\n",
    "gp = george.GP(kernel, mean=0.0)\n",
    "\n",
    "# then we compute the covariance matrix:\n",
    "gp.compute(time)"
   ]
  },
  {
   "cell_type": "code",
   "execution_count": 19,
   "metadata": {},
   "outputs": [],
   "source": [
    "t = np.arange(np.min(time),np.max(time),0.1)\n",
    "\n",
    "# calculate expectation and variance at each point:\n",
    "mu, cov = gp.predict(value, t)\n",
    "std = np.sqrt(np.diag(cov))"
   ]
  },
  {
   "cell_type": "code",
   "execution_count": 20,
   "metadata": {
    "collapsed": true
   },
   "outputs": [],
   "source": [
    "ax = pl.subplot(111)\n",
    "pl.plot(t,mu)\n",
    "ax.fill_between(t,mu-std,mu+std,facecolor='lightblue', lw=0, interpolate=True)\n",
    "pl.scatter(time,value,s=2)\n",
    "pl.axis([0.,60.,-1.,1.])\n",
    "pl.ylabel(\"Relative flux [ppt]\")\n",
    "pl.xlabel(\"Time [days]\")\n",
    "pl.show()"
   ]
  },
  {
   "cell_type": "markdown",
   "metadata": {},
   "source": [
    "The paper says:\n",
    "\n",
    "*As with the earlier examples, we start by estimating the MAP parameters using L-BFGS-B*\n",
    "\n",
    "So let's do that. We'll use the scipy optimiser, which requires us to define a log(likelihood) function and a function for the gradient of the log(likelihood):"
   ]
  },
  {
   "cell_type": "code",
   "execution_count": 13,
   "metadata": {
    "collapsed": true
   },
   "outputs": [],
   "source": [
    "def nll(p):\n",
    "    \n",
    "    # Update the kernel parameters:\n",
    "    gp.kernel[:] = p\n",
    "    \n",
    "    #  Compute the loglikelihood:\n",
    "    ll = gp.lnlikelihood(value, quiet=True)\n",
    "    \n",
    "    # The scipy optimizer doesn’t play well with infinities:\n",
    "    return -ll if np.isfinite(ll) else 1e25"
   ]
  },
  {
   "cell_type": "code",
   "execution_count": 14,
   "metadata": {
    "collapsed": true
   },
   "outputs": [],
   "source": [
    "def grad_nll(p):\n",
    "    # Update the kernel parameters: \n",
    "    gp.kernel[:] = p\n",
    "    \n",
    "    #  Compute the gradient of the loglikelihood:\n",
    "    gll = gp.grad_lnlikelihood(value, quiet=True)\n",
    "    \n",
    "    return -gll"
   ]
  },
  {
   "cell_type": "markdown",
   "metadata": {},
   "source": [
    "I'm going to set bounds on the available parameters space, i.e. our prior volume, using the ranges taken from Table 4 of https://arxiv.org/pdf/1706.05459.pdf"
   ]
  },
  {
   "cell_type": "code",
   "execution_count": 15,
   "metadata": {
    "collapsed": true
   },
   "outputs": [],
   "source": [
    "import scipy.optimize as op\n",
    "\n",
    "# extract our initial guess at parameters\n",
    "# from the george kernel and put it in a \n",
    "# vector:\n",
    "p0 = gp.kernel.vector\n",
    "\n",
    "# set prior ranges\n",
    "# Note that these are in *logarithmic* space\n",
    "bnds = ((-20.,0.),(2.,8.),(0.,3.),(np.log(0.5),np.log(100.)),(-20.,0))\n",
    "\n",
    "# run optimization:\n",
    "results = op.minimize(nll, p0, method='L-BFGS-B', jac=grad_nll, bounds=bnds)"
   ]
  },
  {
   "cell_type": "code",
   "execution_count": 16,
   "metadata": {},
   "outputs": [
    {
     "name": "stdout",
     "output_type": "stream",
     "text": [
      "[  6.80152691e-02   7.38905610e+00   1.05905027e+01   3.89480586e+00\n",
      "   1.33416450e-03]\n"
     ]
    }
   ],
   "source": [
    "# print the value of the optimised parameters:\n",
    "print np.exp(results.x)"
   ]
  },
  {
   "cell_type": "markdown",
   "metadata": {},
   "source": [
    "The key parameter here is the period, which is the fourth number along. We expect this to be about 3.9 and... it is already coming out with that kind of value!\n",
    "\n",
    "From the paper:\n",
    "\n",
    "*This star has a published rotation period of 3.88 ± 0.58 days, measured using traditional periodogram and autocorrelation function approaches applied to Kepler data from Quarters 0–16 (Mathur et al. 2014), covering about four years.*\n",
    "\n",
    "Let's now pass these optimised parameters to george and recompute our prediction:"
   ]
  },
  {
   "cell_type": "code",
   "execution_count": 16,
   "metadata": {
    "collapsed": true
   },
   "outputs": [],
   "source": [
    "# pass the parameters to the george kernel:\n",
    "gp.kernel[:] = results.x"
   ]
  },
  {
   "cell_type": "code",
   "execution_count": 17,
   "metadata": {
    "collapsed": true
   },
   "outputs": [],
   "source": [
    "t = np.arange(np.min(time),np.max(time),0.1)\n",
    "\n",
    "# calculate expectation and variance at each point:\n",
    "mu, cov = gp.predict(value, t)\n",
    "std = np.sqrt(np.diag(cov))"
   ]
  },
  {
   "cell_type": "code",
   "execution_count": 18,
   "metadata": {
    "collapsed": true
   },
   "outputs": [],
   "source": [
    "ax = pl.subplot(111)\n",
    "pl.plot(t,mu)\n",
    "ax.fill_between(t,mu-std,mu+std,facecolor='lightblue', lw=0, interpolate=True)\n",
    "pl.scatter(time,value,s=2)\n",
    "pl.axis([0.,60.,-1.,1.])\n",
    "pl.ylabel(\"Relative flux [ppt]\")\n",
    "pl.xlabel(\"Time [days]\")\n",
    "pl.show()"
   ]
  },
  {
   "cell_type": "markdown",
   "metadata": {},
   "source": [
    "---------------------------------------------------"
   ]
  }
 ],
 "metadata": {
  "kernelspec": {
   "display_name": "Python 2",
   "language": "python",
   "name": "python2"
  },
  "language_info": {
   "codemirror_mode": {
    "name": "ipython",
    "version": 2
   },
   "file_extension": ".py",
   "mimetype": "text/x-python",
   "name": "python",
   "nbconvert_exporter": "python",
   "pygments_lexer": "ipython2",
   "version": "2.7.13"
  }
 },
 "nbformat": 4,
 "nbformat_minor": 2
}
