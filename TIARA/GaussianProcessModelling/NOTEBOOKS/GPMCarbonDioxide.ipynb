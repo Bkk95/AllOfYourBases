{
 "cells": [
  {
   "cell_type": "markdown",
   "metadata": {},
   "source": [
    "==============================================================================================\n",
    "\n",
    "&lsaquo; GPMIntro.ipynb  &rsaquo;\n",
    "Copyright (C) &lsaquo; 2017 &rsaquo;  &lsaquo; Anna Scaife - anna.scaife@manchester.ac.uk &rsaquo;\n",
    "\n",
    "This program is free software: you can redistribute it and/or modify\n",
    "it under the terms of the GNU General Public License as published by\n",
    "the Free Software Foundation, either version 3 of the License, or\n",
    "(at your option) any later version.\n",
    "\n",
    "This program is distributed in the hope that it will be useful,\n",
    "but WITHOUT ANY WARRANTY; without even the implied warranty of\n",
    "MERCHANTABILITY or FITNESS FOR A PARTICULAR PURPOSE.  See the\n",
    "GNU General Public License for more details.\n",
    "\n",
    "You should have received a copy of the GNU General Public License\n",
    "along with this program.  If not, see <http://www.gnu.org/licenses/>.\n",
    "\n",
    "==============================================================================================\n",
    "\n",
    "\n",
    "\n",
    "\n",
    "[AMS - 170402]  Notebook created for SKA-SA Newton Big Data Summer School, Cape Town , April 2017.\n",
    "\n",
    "This notebook uses GPM to forward predict a signal. It follows the example given in Rasmussen & Williams (http://www.gaussianprocess.org/gpml/chapters/) and optimizes covariance kernel hyper-parameters to predict the CO$_{2}$ concentration on Mauna Loa.  It is a teaching resource and is accompanied by the lecture \"Can You Predict the Future..?\"\n",
    "\n",
    "This example uses the george GPM library (http://dan.iel.fm/george/current/user/quickstart/) and the Statsmodel package (http://statsmodels.sourceforge.net/0.6.0/index.html).\n",
    "\n",
    "Note that the script uses an online dataset and you will need an internet connection for it to run.\n",
    "--\n",
    "---------------------------------------------------------------------------------------------"
   ]
  },
  {
   "cell_type": "markdown",
   "metadata": {},
   "source": [
    "To start let's specify that we want our figures to appear embedded in the notebook:"
   ]
  },
  {
   "cell_type": "code",
   "execution_count": 1,
   "metadata": {
    "collapsed": true
   },
   "outputs": [],
   "source": [
    "%matplotlib inline"
   ]
  },
  {
   "cell_type": "markdown",
   "metadata": {},
   "source": [
    "Then let's import all the libraries we need..."
   ]
  },
  {
   "cell_type": "code",
   "execution_count": 2,
   "metadata": {},
   "outputs": [],
   "source": [
    "import numpy as np\n",
    "import george\n",
    "from george import kernels\n",
    "import statsmodels.api as sm\n",
    "import scipy.optimize as op\n",
    "import pylab as pl"
   ]
  },
  {
   "cell_type": "markdown",
   "metadata": {},
   "source": [
    "First grab the data:"
   ]
  },
  {
   "cell_type": "code",
   "execution_count": 3,
   "metadata": {},
   "outputs": [],
   "source": [
    "# For some reason the Mauna Loa dataset seems to have disappeared \n",
    "# from the statsmodel package for the moment...\n",
    "\n",
    "#data = sm.datasets.get_rdataset(\"co2\").data\n",
    "\n",
    "## time data values:\n",
    "#t = np.array(data.time)\n",
    "\n",
    "## CO_2 data values:\n",
    "#y = np.array(data.co2)"
   ]
  },
  {
   "cell_type": "code",
   "execution_count": 4,
   "metadata": {},
   "outputs": [],
   "source": [
    "# this is a function to read the Mauna Loa data from file\n",
    "def read_co2(filename):\n",
    "    \n",
    "    co2file = open(filename,'r')\n",
    "    \n",
    "    time=[];co2=[]\n",
    "    while True:\n",
    "        line = co2file.readline()\n",
    "        if not line: break\n",
    "    \n",
    "        items = line.split()\n",
    "        \n",
    "        if (items[0]!='#') and (items[3]!='-99.99'):\n",
    "            \n",
    "            time.append(float(items[2]))\n",
    "            co2.append(float(items[3]))\n",
    "            \n",
    "    time=np.array(time)\n",
    "    co2=np.array(co2)\n",
    "    \n",
    "    return time,co2\n",
    "\n",
    "t,y = read_co2(\"mauna_loa.dat\")"
   ]
  },
  {
   "cell_type": "markdown",
   "metadata": {},
   "source": [
    "Let's take a look at the data:"
   ]
  },
  {
   "cell_type": "code",
   "execution_count": 5,
   "metadata": {},
   "outputs": [
    {
     "data": {
      "image/png": "[encoded data removed]",
      "text/plain": [
       "<matplotlib.figure.Figure at 0x10a862710>"
      ]
     },
     "metadata": {},
     "output_type": "display_data"
    }
   ],
   "source": [
    "pl.subplot(111)\n",
    "pl.plot(t[np.where(t<2003.)],y[np.where(t<2003.)],ls=':')\n",
    "pl.ylabel(r\"CO$_2$ concentration, ppm\", fontsize=20)\n",
    "pl.xlabel(\"year\", fontsize=20)\n",
    "pl.title(r\"Mauna Loa CO$_2$ data: 1958 to 2003\")\n",
    "pl.axis([1958.,2025.,310.,420.])\n",
    "pl.grid()\n",
    "pl.show()"
   ]
  },
  {
   "cell_type": "markdown",
   "metadata": {},
   "source": [
    "Let's split out the data up to 2003:"
   ]
  },
  {
   "cell_type": "code",
   "execution_count": 6,
   "metadata": {
    "collapsed": true
   },
   "outputs": [],
   "source": [
    "y_to_2003 = y[np.where(t<2003.)]\n",
    "t_to_2003 = t[np.where(t<2003.)]"
   ]
  },
  {
   "cell_type": "markdown",
   "metadata": {},
   "source": [
    "Set up the various covariance kernels. These are given by Eq. 5.15 - 5.18 in RW. Note that we've given each of these kernels arguments. These will act as our initial guess at parameter values."
   ]
  },
  {
   "cell_type": "code",
   "execution_count": 7,
   "metadata": {
    "collapsed": true
   },
   "outputs": [],
   "source": [
    "k1 = 66.0**2 * kernels.ExpSquaredKernel(67.0**2)\n",
    "k2 = 2.4**2 * kernels.ExpSquaredKernel(90**2) * kernels.ExpSine2Kernel(2.0 / 1.3**2, 1.0)\n",
    "k3 = 0.66**2 * kernels.RationalQuadraticKernel(0.78, 1.2**2)\n",
    "k4 = 0.18**2 * kernels.ExpSquaredKernel(1.6**2) + kernels.WhiteKernel(0.19)"
   ]
  },
  {
   "cell_type": "markdown",
   "metadata": {},
   "source": [
    "Then we sum them to make the combined kernel (Eq. 5.19 in RW)."
   ]
  },
  {
   "cell_type": "code",
   "execution_count": 8,
   "metadata": {
    "collapsed": true
   },
   "outputs": [],
   "source": [
    "kernel = k1 + k2 + k3 + k4"
   ]
  },
  {
   "cell_type": "markdown",
   "metadata": {},
   "source": [
    "We then feed this kernel to the george library."
   ]
  },
  {
   "cell_type": "code",
   "execution_count": 9,
   "metadata": {
    "collapsed": true
   },
   "outputs": [],
   "source": [
    "#gp = george.GP(kernel, mean=np.mean(y_to_2005))\n",
    "gp = george.GP(kernel, mean=0.0)"
   ]
  },
  {
   "cell_type": "markdown",
   "metadata": {},
   "source": [
    "We can immediately compute the covariance matrix because we've entered some initial guess parameters as the arguments in our kernels."
   ]
  },
  {
   "cell_type": "code",
   "execution_count": 10,
   "metadata": {},
   "outputs": [],
   "source": [
    "gp.compute(t_to_2003)"
   ]
  },
  {
   "cell_type": "markdown",
   "metadata": {},
   "source": [
    "Then we can immediately calculate our prediction out to 2025..."
   ]
  },
  {
   "cell_type": "code",
   "execution_count": 11,
   "metadata": {},
   "outputs": [],
   "source": [
    "# range of times for prediction:\n",
    "x = np.linspace(max(t_to_2003), 2025, 2000)\n",
    "\n",
    "# calculate expectation and variance at each point:\n",
    "mu, cov = gp.predict(y_to_2003, x)\n",
    "std = np.sqrt(np.diag(cov))"
   ]
  },
  {
   "cell_type": "code",
   "execution_count": 12,
   "metadata": {},
   "outputs": [
    {
     "name": "stderr",
     "output_type": "stream",
     "text": [
      "/opt/local/Library/Frameworks/Python.framework/Versions/2.7/lib/python2.7/site-packages/matplotlib/collections.py:590: FutureWarning: elementwise comparison failed; returning scalar instead, but in the future will perform elementwise comparison\n",
      "  if self._edgecolors == str('face'):\n"
     ]
    },
    {
     "data": {
      "image/png": "[encoded data removed]",
      "text/plain": [
       "<matplotlib.figure.Figure at 0x10a98f610>"
      ]
     },
     "metadata": {},
     "output_type": "display_data"
    }
   ],
   "source": [
    "ax = pl.subplot(111)\n",
    "\n",
    "# plot the original values\n",
    "pl.plot(t_to_2003,y_to_2003,ls=':') \n",
    "\n",
    "# shade in the area inside a one standard deviation bound:\n",
    "ax.fill_between(x,mu-std,mu+std,facecolor='lightgrey', lw=0, interpolate=True)\n",
    "\n",
    "pl.ylabel(r\"CO$_2$ concentration, ppm\")\n",
    "pl.xlabel(\"year\")\n",
    "pl.title(r\"Mauna Loa CO$_2$ data - Initial Prediction\")\n",
    "pl.axis([1958.,2025.,310.,420.])\n",
    "pl.grid()\n",
    "\n",
    "# display the figure:\n",
    "pl.show()"
   ]
  },
  {
   "cell_type": "markdown",
   "metadata": {},
   "source": [
    "To use the scipy library optimization function we need to provide (1) some function to optimize and (2) the *gradient* of that function. \n",
    "\n",
    "Here we define the objective function for the optimization as a negative log-likelihood. We could write this function ourselves, but in fact george has a built in log-likelihood that we can simply call directly.\n",
    "\n",
    "The log-likelihood is computed as\n",
    "\n",
    "$$(\\mathbf{y} - X^T \\mathbf{x})^T C^{-1}(\\mathbf{y} - X^T \\mathbf{x}) $$\n",
    "\n",
    "where $y$ is the variable and $x$ are the points at which it is measured; $C$ is the covariance matrix and $X$ is the operator that maps $x$ onto $y$."
   ]
  },
  {
   "cell_type": "code",
   "execution_count": 13,
   "metadata": {
    "collapsed": true
   },
   "outputs": [],
   "source": [
    "# -----------------------------------------------------------------\n",
    "\n",
    "def nll(p):\n",
    "    # Update the kernel parameters and compute the likelihood.\n",
    "    gp.kernel[:] = p\n",
    "    ll = gp.lnlikelihood(y_to_2003, quiet=True)\n",
    "    \n",
    "    # The scipy optimizer doesn't play well with infinities.\n",
    "    return -ll if np.isfinite(ll) else 1e25\n",
    "\n",
    "# -----------------------------------------------------------------"
   ]
  },
  {
   "cell_type": "markdown",
   "metadata": {},
   "source": [
    "And the gradient of the objective function:"
   ]
  },
  {
   "cell_type": "code",
   "execution_count": 14,
   "metadata": {
    "collapsed": true
   },
   "outputs": [],
   "source": [
    "# -----------------------------------------------------------------\n",
    "\n",
    "def grad_nll(p):\n",
    "    # Update the kernel parameters and compute the likelihood gradient.\n",
    "    gp.kernel[:] = p\n",
    "    gll = gp.grad_lnlikelihood(y_to_2003, quiet=True)\n",
    "    return -gll\n",
    "\n",
    "# -----------------------------------------------------------------"
   ]
  },
  {
   "cell_type": "markdown",
   "metadata": {},
   "source": [
    "You need to compute the GP once before starting the optimization. We've actually already done this above, but it doesn't hurt to run it again."
   ]
  },
  {
   "cell_type": "code",
   "execution_count": 15,
   "metadata": {},
   "outputs": [],
   "source": [
    "gp.compute(t_to_2003)"
   ]
  },
  {
   "cell_type": "markdown",
   "metadata": {},
   "source": [
    "Then run the optimization routine:"
   ]
  },
  {
   "cell_type": "code",
   "execution_count": 16,
   "metadata": {},
   "outputs": [
    {
     "name": "stdout",
     "output_type": "stream",
     "text": [
      "[  1.21221785e+05   1.20171813e+04   6.82078762e+00   9.43755168e+03\n",
      "   8.74899935e-01   9.99515233e-01   1.18267839e+05   1.30070592e-07\n",
      "   2.97960016e+04   2.58383048e-01   1.20128098e+00   3.56378332e-02]\n"
     ]
    }
   ],
   "source": [
    "# initial guess at parameters (see above):\n",
    "p0 = gp.kernel.vector\n",
    "\n",
    "# if you want to view your initial guess values uncomment the line below\n",
    "# print p0\n",
    "\n",
    "# run optimization:\n",
    "results = op.minimize(nll, p0, jac=grad_nll)\n",
    "\n",
    "print np.exp(results.x)"
   ]
  },
  {
   "cell_type": "markdown",
   "metadata": {},
   "source": [
    "Update the kernel with the results of the optimization:"
   ]
  },
  {
   "cell_type": "code",
   "execution_count": 17,
   "metadata": {},
   "outputs": [],
   "source": [
    "gp.kernel[:] = results.x"
   ]
  },
  {
   "cell_type": "markdown",
   "metadata": {},
   "source": [
    "Then use this kernel to calculate the predicted expectation value and variance of the data over a range of times:"
   ]
  },
  {
   "cell_type": "code",
   "execution_count": 18,
   "metadata": {},
   "outputs": [],
   "source": [
    "# range of times for prediction:\n",
    "x = np.linspace(max(t_to_2003), 2025, 2000)\n",
    "\n",
    "# calculate expectation and variance at each point:\n",
    "mu, cov = gp.predict(y_to_2003, x)\n",
    "std = np.sqrt(np.diag(cov))"
   ]
  },
  {
   "cell_type": "markdown",
   "metadata": {},
   "source": [
    "Now let's plot the optimised  prediction..."
   ]
  },
  {
   "cell_type": "code",
   "execution_count": 20,
   "metadata": {},
   "outputs": [
    {
     "data": {
      "image/png": "[encoded data removed]",
      "text/plain": [
       "<matplotlib.figure.Figure at 0x10a9d7bd0>"
      ]
     },
     "metadata": {},
     "output_type": "display_data"
    }
   ],
   "source": [
    "ax = pl.subplot(111)\n",
    "\n",
    "# plot the original values\n",
    "pl.plot(t_to_2003,y_to_2003,ls=':') \n",
    "\n",
    "# shade in the area inside a one standard deviation bound:\n",
    "ax.fill_between(x,mu-std,mu+std,facecolor='lightgrey', lw=0, interpolate=True)\n",
    "pl.title(\"Predicted\")\n",
    "\n",
    "pl.ylabel(r\"CO$_2$ concentration, ppm\")\n",
    "pl.xlabel(\"year\")\n",
    "pl.title(r\"Mauna Loa CO$_2$ data - Optimised Prediction\")\n",
    "pl.axis([1957.,2025.,310.,420.])\n",
    "pl.grid()\n",
    "\n",
    "# display the figure:\n",
    "pl.show()"
   ]
  },
  {
   "cell_type": "markdown",
   "metadata": {},
   "source": [
    "So how did we do? We can compare our prediction to the actual measurements from 2005 until now..."
   ]
  },
  {
   "cell_type": "code",
   "execution_count": 21,
   "metadata": {},
   "outputs": [
    {
     "data": {
      "image/png": "[encoded data removed]",
      "text/plain": [
       "<matplotlib.figure.Figure at 0x104a8d910>"
      ]
     },
     "metadata": {},
     "output_type": "display_data"
    }
   ],
   "source": [
    "ax = pl.subplot(111)\n",
    "\n",
    "# plot the training values\n",
    "pl.plot(t_to_2003,y_to_2003,ls=':',c='b') \n",
    "\n",
    "# shade in the area inside a one standard deviation bound:\n",
    "ax.fill_between(x,mu-std,mu+std,facecolor='lightgrey', lw=0, interpolate=True)\n",
    "\n",
    "# plot the full dataset\n",
    "pl.plot(t[np.where(t>2003)],y[np.where(t>2003)],ls='-',c='r') \n",
    "\n",
    "pl.ylabel(r\"CO$_2$ concentration, ppm\")\n",
    "pl.xlabel(\"year\")\n",
    "pl.title(r\"Mauna Loa CO$_2$ data - Comparison\")\n",
    "pl.axis([1958.,2025.,310.,420.])\n",
    "pl.grid()\n",
    "\n",
    "# display the figure:\n",
    "pl.show()"
   ]
  },
  {
   "cell_type": "markdown",
   "metadata": {},
   "source": [
    "-- DONE --"
   ]
  }
 ],
 "metadata": {
  "kernelspec": {
   "display_name": "Python 2",
   "language": "python",
   "name": "python2"
  },
  "language_info": {
   "codemirror_mode": {
    "name": "ipython",
    "version": 2
   },
   "file_extension": ".py",
   "mimetype": "text/x-python",
   "name": "python",
   "nbconvert_exporter": "python",
   "pygments_lexer": "ipython2",
   "version": "2.7.13"
  }
 },
 "nbformat": 4,
 "nbformat_minor": 1
}
